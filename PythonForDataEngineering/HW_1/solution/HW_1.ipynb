{
 "cells": [
  {
   "metadata": {},
   "cell_type": "markdown",
   "source": "Задание 1",
   "id": "f6b41955e4fc443e"
  },
  {
   "metadata": {
    "collapsed": true,
    "ExecuteTime": {
     "end_time": "2025-10-15T16:57:20.899462Z",
     "start_time": "2025-10-15T16:57:20.685248Z"
    }
   },
   "cell_type": "code",
   "source": [
    "import json\n",
    "\n",
    "purchases = {}\n",
    "\n",
    "with open('../data/purchase_log.txt', 'r', encoding='UTF-8') as txtFile:\n",
    "    for line in txtFile:\n",
    "        purchases[json.loads(line)['user_id']] = json.loads(line)['category']\n",
    "\n",
    "    # Первые два элемента из словаря\n",
    "    for idx, lst in enumerate(purchases.items()):\n",
    "        if idx == 0:\n",
    "            continue\n",
    "        if idx == 3:\n",
    "            break\n",
    "        print(lst[0], '‘' + lst[1] + '‘')"
   ],
   "id": "9bfb5bff9d3277cb",
   "outputs": [
    {
     "name": "stdout",
     "output_type": "stream",
     "text": [
      "1840e0b9d4 ‘Продукты‘\n",
      "4e4f90fcfb ‘Электроника‘\n"
     ]
    }
   ],
   "execution_count": 76
  },
  {
   "metadata": {},
   "cell_type": "markdown",
   "source": "Задание 2",
   "id": "e6d03806e7caa804"
  },
  {
   "metadata": {
    "ExecuteTime": {
     "end_time": "2025-10-15T16:57:26.578371Z",
     "start_time": "2025-10-15T16:57:26.513484Z"
    }
   },
   "cell_type": "code",
   "source": [
    "import csv\n",
    "with open('../data/visit_log.csv', 'r', encoding='UTF-8') as csvFile:\n",
    "    with open('../result/funnel.csv', 'w', encoding='UTF-8') as resultCsvFile:\n",
    "        reader = csv.reader(csvFile)\n",
    "        writer = csv.writer(resultCsvFile)\n",
    "\n",
    "        for line in reader:\n",
    "            if purchases.get(line[0]):\n",
    "                line.append(purchases[line[0]])\n",
    "                writer.writerow(line)\n",
    "\n",
    "# Первые три строки из файла\n",
    "with open('../result/funnel.csv', 'r', encoding='UTF-8') as csvFile:\n",
    "    reader = csv.reader(csvFile)\n",
    "    counter = 0\n",
    "\n",
    "    for line in reader:\n",
    "        if not line:\n",
    "            continue\n",
    "        if counter == 3:\n",
    "            break\n",
    "        print(','.join(line))\n",
    "        counter += 1"
   ],
   "id": "dcc3c317ee16d2aa",
   "outputs": [
    {
     "name": "stdout",
     "output_type": "stream",
     "text": [
      "user_id,source,category\n",
      "1840e0b9d4,other,Продукты\n",
      "4e4f90fcfb,context,Электроника\n"
     ]
    }
   ],
   "execution_count": 77
  }
 ],
 "metadata": {
  "kernelspec": {
   "display_name": "Python 3",
   "language": "python",
   "name": "python3"
  },
  "language_info": {
   "codemirror_mode": {
    "name": "ipython",
    "version": 2
   },
   "file_extension": ".py",
   "mimetype": "text/x-python",
   "name": "python",
   "nbconvert_exporter": "python",
   "pygments_lexer": "ipython2",
   "version": "2.7.6"
  }
 },
 "nbformat": 4,
 "nbformat_minor": 5
}
