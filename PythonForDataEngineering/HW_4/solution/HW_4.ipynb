{
 "cells": [
  {
   "metadata": {},
   "cell_type": "markdown",
   "source": "Задание 1",
   "id": "f6b41955e4fc443e"
  },
  {
   "metadata": {
    "collapsed": true,
    "ExecuteTime": {
     "end_time": "2025-10-21T12:10:55.373173Z",
     "start_time": "2025-10-21T12:10:54.191046Z"
    }
   },
   "cell_type": "code",
   "source": [
    "import re\n",
    "\n",
    "_ALLOWED = \"АВЕКМНОРСТУХ\"\n",
    "_PLATE_RX = re.compile(rf\"^([{_ALLOWED}])(\\d{{3}})([{_ALLOWED}]{{2}})(\\d{{2,3}})$\")\n",
    "\n",
    "def parse_plate(car_id: str):\n",
    "    m = _PLATE_RX.match(car_id)\n",
    "    if not m:\n",
    "        return None\n",
    "    number = m.group(1) + m.group(2) + m.group(3)\n",
    "    region = m.group(4)\n",
    "    return number, region\n",
    "\n",
    "def check_car_id(car_id: str) -> str:\n",
    "    parsed = parse_plate(car_id)\n",
    "    if parsed is None:\n",
    "        return \"Номер не валиден.\"\n",
    "    number, region = parsed\n",
    "    return f\"Номер {number} валиден. Регион: {region}.\"\n",
    "\n",
    "print(check_car_id(input('Введите номер: '))) # А222ВС96 - valid, АБ22ВВ193 - invalid"
   ],
   "id": "9bfb5bff9d3277cb",
   "outputs": [
    {
     "name": "stdout",
     "output_type": "stream",
     "text": [
      "Номер А222ВС валиден. Регион: 96.\n"
     ]
    }
   ],
   "execution_count": 10
  },
  {
   "metadata": {},
   "cell_type": "markdown",
   "source": "Задание 2",
   "id": "e0ba18e562482861"
  },
  {
   "metadata": {
    "ExecuteTime": {
     "end_time": "2025-10-21T12:11:01.670529Z",
     "start_time": "2025-10-21T12:11:01.667487Z"
    }
   },
   "cell_type": "code",
   "source": [
    "_REPEAT_RX = re.compile(r'\\b(\\w+)(?:\\s+\\1\\b)+', flags=re.IGNORECASE)\n",
    "\n",
    "def remove_repeats(text: str) -> str:\n",
    "    return _REPEAT_RX.sub(r'\\1', text)\n",
    "\n",
    "some_string = ('Напишите функцию функцию, которая будет будет будет будет удалять '\n",
    "               'все все все все последовательные повторы слов из из из из заданной '\n",
    "               'строки строки при помощи регулярных выражений')\n",
    "\n",
    "print(remove_repeats(some_string))"
   ],
   "id": "889d07ff5955b14a",
   "outputs": [
    {
     "name": "stdout",
     "output_type": "stream",
     "text": [
      "Напишите функцию, которая будет удалять все последовательные повторы слов из заданной строки при помощи регулярных выражений\n"
     ]
    }
   ],
   "execution_count": 11
  }
 ],
 "metadata": {
  "kernelspec": {
   "display_name": "Python 3",
   "language": "python",
   "name": "python3"
  },
  "language_info": {
   "codemirror_mode": {
    "name": "ipython",
    "version": 2
   },
   "file_extension": ".py",
   "mimetype": "text/x-python",
   "name": "python",
   "nbconvert_exporter": "python",
   "pygments_lexer": "ipython2",
   "version": "2.7.6"
  }
 },
 "nbformat": 4,
 "nbformat_minor": 5
}
