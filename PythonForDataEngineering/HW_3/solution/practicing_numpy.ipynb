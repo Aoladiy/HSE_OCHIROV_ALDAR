{
 "cells": [
  {
   "cell_type": "code",
   "id": "initial_id",
   "metadata": {
    "collapsed": true,
    "ExecuteTime": {
     "end_time": "2025-10-20T19:21:36.330360Z",
     "start_time": "2025-10-20T19:21:36.326223Z"
    }
   },
   "source": [
    "import numpy as np\n",
    "import random\n",
    "firstRow = np.arange(10)\n",
    "random.shuffle(firstRow)\n",
    "secondRow = np.arange(10, 20)\n",
    "random.shuffle(secondRow)\n",
    "thirdRow = np.arange(20, 30)\n",
    "random.shuffle(thirdRow)\n",
    "\n",
    "matrix = np.array([\n",
    "    firstRow,\n",
    "    secondRow,\n",
    "    thirdRow\n",
    "])\n",
    "matrix"
   ],
   "outputs": [
    {
     "data": {
      "text/plain": [
       "array([[ 6,  4,  7,  5,  9,  3,  8,  0,  1,  2],\n",
       "       [18, 10, 14, 12, 15, 17, 11, 16, 19, 13],\n",
       "       [20, 29, 24, 25, 23, 27, 28, 22, 26, 21]])"
      ]
     },
     "execution_count": 35,
     "metadata": {},
     "output_type": "execute_result"
    }
   ],
   "execution_count": 35
  },
  {
   "metadata": {
    "ExecuteTime": {
     "end_time": "2025-10-20T19:28:07.267698Z",
     "start_time": "2025-10-20T19:28:07.264785Z"
    }
   },
   "cell_type": "code",
   "source": [
    "distribution = np.linspace(0, 9, 10)\n",
    "distribution"
   ],
   "id": "1e394064440f89e2",
   "outputs": [
    {
     "data": {
      "text/plain": [
       "array([0., 1., 2., 3., 4., 5., 6., 7., 8., 9.])"
      ]
     },
     "execution_count": 46,
     "metadata": {},
     "output_type": "execute_result"
    }
   ],
   "execution_count": 46
  }
 ],
 "metadata": {
  "kernelspec": {
   "display_name": "Python 3",
   "language": "python",
   "name": "python3"
  },
  "language_info": {
   "codemirror_mode": {
    "name": "ipython",
    "version": 2
   },
   "file_extension": ".py",
   "mimetype": "text/x-python",
   "name": "python",
   "nbconvert_exporter": "python",
   "pygments_lexer": "ipython2",
   "version": "2.7.6"
  }
 },
 "nbformat": 4,
 "nbformat_minor": 5
}
