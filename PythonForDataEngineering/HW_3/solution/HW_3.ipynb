{
 "cells": [
  {
   "metadata": {},
   "cell_type": "markdown",
   "source": "Задание 1",
   "id": "f6b41955e4fc443e"
  },
  {
   "metadata": {
    "collapsed": true,
    "ExecuteTime": {
     "end_time": "2025-10-21T11:18:42.922702Z",
     "start_time": "2025-10-21T11:18:42.231523Z"
    }
   },
   "cell_type": "code",
   "source": [
    "import datetime\n",
    "import pandas as pd\n",
    "import seaborn as sb\n",
    "\n",
    "data = pd.read_csv('../data/Electronic_sales_Sep2023-Sep2024.csv')\n",
    "\n",
    "mostUsedPaymentMethodMap = data.groupby('Customer ID')['Payment Method'].aggregate(lambda x: x.value_counts().index[0])\n",
    "totalPriceMap = data.groupby('Customer ID')['Total Price'].sum('Total Price')\n",
    "addOnTotalMap = data.groupby('Customer ID')['Add-on Total'].sum('Add-on Total')\n",
    "\n",
    "data['Most used Payment Method'] = data['Customer ID'].map(mostUsedPaymentMethodMap)\n",
    "data['Total spent'] = data['Customer ID'].map(totalPriceMap)\n",
    "data['Total spent on Add-on'] = data['Customer ID'].map(addOnTotalMap)\n",
    "\n",
    "data[[\n",
    "    'Customer ID',\n",
    "    'Most used Payment Method',\n",
    "    'Total spent',\n",
    "    'Total spent on Add-on',\n",
    "]]"
   ],
   "id": "9bfb5bff9d3277cb",
   "outputs": [
    {
     "data": {
      "text/plain": [
       "       Customer ID Most used Payment Method  Total spent  \\\n",
       "0             1000              Credit Card      6279.42   \n",
       "1             1000              Credit Card      6279.42   \n",
       "2             1002              Credit Card      5020.60   \n",
       "3             1002              Credit Card      5020.60   \n",
       "4             1003                     Cash        41.50   \n",
       "...            ...                      ...          ...   \n",
       "19995        19996                   PayPal     27296.78   \n",
       "19996        19996                   PayPal     27296.78   \n",
       "19997        19996                   PayPal     27296.78   \n",
       "19998        19997            Bank Transfer      2528.26   \n",
       "19999        19998            Bank Transfer       674.32   \n",
       "\n",
       "       Total spent on Add-on  \n",
       "0                      66.30  \n",
       "1                      66.30  \n",
       "2                      60.16  \n",
       "3                      60.16  \n",
       "4                      35.56  \n",
       "...                      ...  \n",
       "19995                 432.12  \n",
       "19996                 432.12  \n",
       "19997                 432.12  \n",
       "19998                 101.34  \n",
       "19999                   0.00  \n",
       "\n",
       "[20000 rows x 4 columns]"
      ],
      "text/html": [
       "<div>\n",
       "<style scoped>\n",
       "    .dataframe tbody tr th:only-of-type {\n",
       "        vertical-align: middle;\n",
       "    }\n",
       "\n",
       "    .dataframe tbody tr th {\n",
       "        vertical-align: top;\n",
       "    }\n",
       "\n",
       "    .dataframe thead th {\n",
       "        text-align: right;\n",
       "    }\n",
       "</style>\n",
       "<table border=\"1\" class=\"dataframe\">\n",
       "  <thead>\n",
       "    <tr style=\"text-align: right;\">\n",
       "      <th></th>\n",
       "      <th>Customer ID</th>\n",
       "      <th>Most used Payment Method</th>\n",
       "      <th>Total spent</th>\n",
       "      <th>Total spent on Add-on</th>\n",
       "    </tr>\n",
       "  </thead>\n",
       "  <tbody>\n",
       "    <tr>\n",
       "      <th>0</th>\n",
       "      <td>1000</td>\n",
       "      <td>Credit Card</td>\n",
       "      <td>6279.42</td>\n",
       "      <td>66.30</td>\n",
       "    </tr>\n",
       "    <tr>\n",
       "      <th>1</th>\n",
       "      <td>1000</td>\n",
       "      <td>Credit Card</td>\n",
       "      <td>6279.42</td>\n",
       "      <td>66.30</td>\n",
       "    </tr>\n",
       "    <tr>\n",
       "      <th>2</th>\n",
       "      <td>1002</td>\n",
       "      <td>Credit Card</td>\n",
       "      <td>5020.60</td>\n",
       "      <td>60.16</td>\n",
       "    </tr>\n",
       "    <tr>\n",
       "      <th>3</th>\n",
       "      <td>1002</td>\n",
       "      <td>Credit Card</td>\n",
       "      <td>5020.60</td>\n",
       "      <td>60.16</td>\n",
       "    </tr>\n",
       "    <tr>\n",
       "      <th>4</th>\n",
       "      <td>1003</td>\n",
       "      <td>Cash</td>\n",
       "      <td>41.50</td>\n",
       "      <td>35.56</td>\n",
       "    </tr>\n",
       "    <tr>\n",
       "      <th>...</th>\n",
       "      <td>...</td>\n",
       "      <td>...</td>\n",
       "      <td>...</td>\n",
       "      <td>...</td>\n",
       "    </tr>\n",
       "    <tr>\n",
       "      <th>19995</th>\n",
       "      <td>19996</td>\n",
       "      <td>PayPal</td>\n",
       "      <td>27296.78</td>\n",
       "      <td>432.12</td>\n",
       "    </tr>\n",
       "    <tr>\n",
       "      <th>19996</th>\n",
       "      <td>19996</td>\n",
       "      <td>PayPal</td>\n",
       "      <td>27296.78</td>\n",
       "      <td>432.12</td>\n",
       "    </tr>\n",
       "    <tr>\n",
       "      <th>19997</th>\n",
       "      <td>19996</td>\n",
       "      <td>PayPal</td>\n",
       "      <td>27296.78</td>\n",
       "      <td>432.12</td>\n",
       "    </tr>\n",
       "    <tr>\n",
       "      <th>19998</th>\n",
       "      <td>19997</td>\n",
       "      <td>Bank Transfer</td>\n",
       "      <td>2528.26</td>\n",
       "      <td>101.34</td>\n",
       "    </tr>\n",
       "    <tr>\n",
       "      <th>19999</th>\n",
       "      <td>19998</td>\n",
       "      <td>Bank Transfer</td>\n",
       "      <td>674.32</td>\n",
       "      <td>0.00</td>\n",
       "    </tr>\n",
       "  </tbody>\n",
       "</table>\n",
       "<p>20000 rows × 4 columns</p>\n",
       "</div>"
      ]
     },
     "execution_count": 45,
     "metadata": {},
     "output_type": "execute_result"
    }
   ],
   "execution_count": 45
  },
  {
   "metadata": {},
   "cell_type": "markdown",
   "source": "Задание 2",
   "id": "e6d03806e7caa804"
  },
  {
   "metadata": {
    "ExecuteTime": {
     "end_time": "2025-10-21T11:18:43.045177Z",
     "start_time": "2025-10-21T11:18:42.947137Z"
    }
   },
   "cell_type": "code",
   "source": [
    "def quartal_by_month(month: int) -> int:\n",
    "    if month < 1 or month > 12:\n",
    "        raise ValueError(\"Месяц должен быть в диапазоне от 1 до 12\")\n",
    "    return (month - 1) // 3 + 1\n",
    "\n",
    "filteredData = data.loc[data['Order Status'].eq('Completed')].copy()\n",
    "\n",
    "incomeByShippingTypeMap = filteredData.groupby('Shipping Type')['Total Price'].sum('Total Price')\n",
    "incomeByProductTypeMap = filteredData.groupby('Product Type')['Total Price'].sum('Total Price')\n",
    "\n",
    "months = filteredData['Purchase Date'].map(lambda x: datetime.datetime.strptime(x, '%Y-%m-%d').month)\n",
    "quartals = filteredData['Purchase Date'].map(lambda x: quartal_by_month(datetime.datetime.strptime(x, '%Y-%m-%d').month))\n",
    "\n",
    "filteredData['Month'] = months\n",
    "filteredData['Quartal'] = quartals\n",
    "\n",
    "addOnTotalByMonth = filteredData.groupby('Month')['Add-on Total'].sum('Add-on Total')\n",
    "addOnTotalByQuartal = filteredData.groupby('Quartal')['Add-on Total'].sum('Add-on Total')"
   ],
   "id": "dcc3c317ee16d2aa",
   "outputs": [],
   "execution_count": 46
  },
  {
   "metadata": {
    "ExecuteTime": {
     "end_time": "2025-10-21T11:18:43.073987Z",
     "start_time": "2025-10-21T11:18:43.070004Z"
    }
   },
   "cell_type": "code",
   "source": "incomeByShippingTypeMap",
   "id": "6199dad452727818",
   "outputs": [
    {
     "data": {
      "text/plain": [
       "Shipping Type\n",
       "Expedited     8430385.58\n",
       "Express       5632093.35\n",
       "Overnight     5887722.52\n",
       "Same Day      8292376.50\n",
       "Standard     14387037.62\n",
       "Name: Total Price, dtype: float64"
      ]
     },
     "execution_count": 47,
     "metadata": {},
     "output_type": "execute_result"
    }
   ],
   "execution_count": 47
  },
  {
   "metadata": {
    "ExecuteTime": {
     "end_time": "2025-10-21T11:18:43.244936Z",
     "start_time": "2025-10-21T11:18:43.193410Z"
    }
   },
   "cell_type": "code",
   "source": "incomeByShippingTypePlot = sb.barplot(incomeByShippingTypeMap)",
   "id": "30d11057c9cbce7f",
   "outputs": [
    {
     "data": {
      "text/plain": [
       "<Figure size 640x480 with 1 Axes>"
      ],
      "image/png": "[encoded data removed]"
     },
     "metadata": {},
     "output_type": "display_data",
     "jetTransient": {
      "display_id": null
     }
    }
   ],
   "execution_count": 48
  },
  {
   "metadata": {
    "ExecuteTime": {
     "end_time": "2025-10-21T11:18:43.270827Z",
     "start_time": "2025-10-21T11:18:43.267725Z"
    }
   },
   "cell_type": "code",
   "source": "incomeByProductTypeMap",
   "id": "d5ed255a3c3ed100",
   "outputs": [
    {
     "data": {
      "text/plain": [
       "Product Type\n",
       "Headphones     2734651.00\n",
       "Laptop         8365905.25\n",
       "Smartphone    14407835.84\n",
       "Smartwatch     9398591.23\n",
       "Tablet         7722632.25\n",
       "Name: Total Price, dtype: float64"
      ]
     },
     "execution_count": 49,
     "metadata": {},
     "output_type": "execute_result"
    }
   ],
   "execution_count": 49
  },
  {
   "metadata": {
    "ExecuteTime": {
     "end_time": "2025-10-21T11:18:43.356254Z",
     "start_time": "2025-10-21T11:18:43.300429Z"
    }
   },
   "cell_type": "code",
   "source": "incomeByProductTypePlot = sb.barplot(incomeByProductTypeMap)",
   "id": "76163ef81c90cdfa",
   "outputs": [
    {
     "data": {
      "text/plain": [
       "<Figure size 640x480 with 1 Axes>"
      ],
      "image/png": "[encoded data removed]"
     },
     "metadata": {},
     "output_type": "display_data",
     "jetTransient": {
      "display_id": null
     }
    }
   ],
   "execution_count": 50
  },
  {
   "metadata": {
    "ExecuteTime": {
     "end_time": "2025-10-21T11:18:43.385936Z",
     "start_time": "2025-10-21T11:18:43.382973Z"
    }
   },
   "cell_type": "code",
   "source": "addOnTotalByMonth",
   "id": "fe5e144c87a390d6",
   "outputs": [
    {
     "data": {
      "text/plain": [
       "Month\n",
       "1     93254.95\n",
       "2     80253.72\n",
       "3     84713.93\n",
       "4     82294.06\n",
       "5     89374.18\n",
       "6     84648.60\n",
       "7     88811.55\n",
       "8     87861.11\n",
       "9     71026.37\n",
       "10    26153.21\n",
       "11    24453.33\n",
       "12    22750.23\n",
       "Name: Add-on Total, dtype: float64"
      ]
     },
     "execution_count": 51,
     "metadata": {},
     "output_type": "execute_result"
    }
   ],
   "execution_count": 51
  },
  {
   "metadata": {
    "ExecuteTime": {
     "end_time": "2025-10-21T11:18:43.553810Z",
     "start_time": "2025-10-21T11:18:43.495155Z"
    }
   },
   "cell_type": "code",
   "source": "addOnTotalByMonthPlot = sb.barplot(addOnTotalByMonth)",
   "id": "cc5a56ba6fbc3953",
   "outputs": [
    {
     "data": {
      "text/plain": [
       "<Figure size 640x480 with 1 Axes>"
      ],
      "image/png": "[encoded data removed]"
     },
     "metadata": {},
     "output_type": "display_data",
     "jetTransient": {
      "display_id": null
     }
    }
   ],
   "execution_count": 52
  },
  {
   "metadata": {
    "ExecuteTime": {
     "end_time": "2025-10-21T11:18:43.581364Z",
     "start_time": "2025-10-21T11:18:43.578072Z"
    }
   },
   "cell_type": "code",
   "source": "addOnTotalByQuartal",
   "id": "778aa2a183c1dea8",
   "outputs": [
    {
     "data": {
      "text/plain": [
       "Quartal\n",
       "1    258222.60\n",
       "2    256316.84\n",
       "3    247699.03\n",
       "4     73356.77\n",
       "Name: Add-on Total, dtype: float64"
      ]
     },
     "execution_count": 53,
     "metadata": {},
     "output_type": "execute_result"
    }
   ],
   "execution_count": 53
  },
  {
   "metadata": {
    "ExecuteTime": {
     "end_time": "2025-10-21T11:18:43.663142Z",
     "start_time": "2025-10-21T11:18:43.616472Z"
    }
   },
   "cell_type": "code",
   "source": "addOnTotalByQuartalPlot = sb.barplot(addOnTotalByQuartal)",
   "id": "420f69af7d723dec",
   "outputs": [
    {
     "data": {
      "text/plain": [
       "<Figure size 640x480 with 1 Axes>"
      ],
      "image/png": "[encoded data removed]"
     },
     "metadata": {},
     "output_type": "display_data",
     "jetTransient": {
      "display_id": null
     }
    }
   ],
   "execution_count": 54
  }
 ],
 "metadata": {
  "kernelspec": {
   "display_name": "Python 3",
   "language": "python",
   "name": "python3"
  },
  "language_info": {
   "codemirror_mode": {
    "name": "ipython",
    "version": 2
   },
   "file_extension": ".py",
   "mimetype": "text/x-python",
   "name": "python",
   "nbconvert_exporter": "python",
   "pygments_lexer": "ipython2",
   "version": "2.7.6"
  }
 },
 "nbformat": 4,
 "nbformat_minor": 5
}
