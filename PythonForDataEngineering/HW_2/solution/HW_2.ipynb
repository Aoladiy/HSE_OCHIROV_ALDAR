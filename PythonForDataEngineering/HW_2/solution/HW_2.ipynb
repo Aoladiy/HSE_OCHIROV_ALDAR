{
 "cells": [
  {
   "metadata": {},
   "cell_type": "markdown",
   "source": "Задание 1",
   "id": "f6b41955e4fc443e"
  },
  {
   "metadata": {
    "collapsed": true,
    "ExecuteTime": {
     "end_time": "2025-10-15T18:17:58.159475Z",
     "start_time": "2025-10-15T18:17:56.900178Z"
    }
   },
   "cell_type": "code",
   "source": [
    "import datetime\n",
    "\n",
    "formats = [\n",
    "    \"%A, %B %d, %Y\",\n",
    "    \"%A, %d.%m.%y\",\n",
    "    \"%A, %d %B %Y\",\n",
    "]\n",
    "idx = 0\n",
    "inputDatetime = input('datetime: ')\n",
    "\n",
    "while True:\n",
    "    try:\n",
    "        datetimeVar = datetime.datetime.strptime(inputDatetime, formats[idx])\n",
    "        print(datetimeVar)\n",
    "        break\n",
    "    except ValueError:\n",
    "        idx +=1\n",
    "        try:\n",
    "            formats[idx]\n",
    "        except IndexError:\n",
    "            print('No suitable format found')\n",
    "            break\n"
   ],
   "id": "9bfb5bff9d3277cb",
   "outputs": [
    {
     "name": "stdout",
     "output_type": "stream",
     "text": [
      "2002-10-02 00:00:00\n"
     ]
    }
   ],
   "execution_count": 28
  },
  {
   "metadata": {},
   "cell_type": "markdown",
   "source": "Задание 2",
   "id": "e6d03806e7caa804"
  },
  {
   "metadata": {
    "ExecuteTime": {
     "end_time": "2025-10-15T18:18:00.465677Z",
     "start_time": "2025-10-15T18:18:00.461912Z"
    }
   },
   "cell_type": "code",
   "source": [
    "def date_range(start_date: str, end_date: str) -> list[str]:\n",
    "    pattern = '%Y-%m-%d'\n",
    "    result = []\n",
    "\n",
    "    try:\n",
    "        start_date_processed = datetime.datetime.strptime(start_date, pattern)\n",
    "        end_date_processed = datetime.datetime.strptime(end_date, pattern)\n",
    "        while start_date_processed <= end_date_processed:\n",
    "            result.append(start_date_processed.strftime(pattern))\n",
    "            start_date_processed += datetime.timedelta(days=1)\n",
    "    except ValueError:\n",
    "        print(result) # Только для вывода\n",
    "        return result\n",
    "    print(result) # Только для вывода\n",
    "    return result\n",
    "\n",
    "date_range('2022-01-01', '2022-01-03')\n",
    "date_range('2022-01-03', '2022-01-01')\n",
    "date_range('2022-02-30', '2022-02-31')"
   ],
   "id": "dcc3c317ee16d2aa",
   "outputs": [
    {
     "name": "stdout",
     "output_type": "stream",
     "text": [
      "['2022-01-01', '2022-01-02', '2022-01-03']\n",
      "[]\n",
      "[]\n"
     ]
    },
    {
     "data": {
      "text/plain": [
       "[]"
      ]
     },
     "execution_count": 29,
     "metadata": {},
     "output_type": "execute_result"
    }
   ],
   "execution_count": 29
  }
 ],
 "metadata": {
  "kernelspec": {
   "display_name": "Python 3",
   "language": "python",
   "name": "python3"
  },
  "language_info": {
   "codemirror_mode": {
    "name": "ipython",
    "version": 2
   },
   "file_extension": ".py",
   "mimetype": "text/x-python",
   "name": "python",
   "nbconvert_exporter": "python",
   "pygments_lexer": "ipython2",
   "version": "2.7.6"
  }
 },
 "nbformat": 4,
 "nbformat_minor": 5
}
